{
 "cells": [
  {
   "cell_type": "markdown",
   "id": "c2ff8d33",
   "metadata": {},
   "source": [
    "<img src=\"../imagens/python.png\">"
   ]
  },
  {
   "cell_type": "markdown",
   "id": "274f0928",
   "metadata": {},
   "source": [
    "### O QUE É PYTHON?"
   ]
  },
  {
   "cell_type": "markdown",
   "id": "b4a77bd5",
   "metadata": {},
   "source": [
    "Python é uma linguagem de programação de **alto nível**, **interpretada de script**, **imperativa**, **orientada a objetos**, **funcional**, de **tipagem dinâmica** e **forte**. Foi lançada por **Guido van Rossum** em **1991**. Atualmente, possui um modelo de desenvolvimento comunitário, aberto e gerenciado pela organização sem fins lucrativos **Python Software Foundation**."
   ]
  },
  {
   "cell_type": "markdown",
   "id": "e6e69d49",
   "metadata": {},
   "source": [
    "### GUIDO VAN ROSSUM"
   ]
  },
  {
   "cell_type": "markdown",
   "id": "32a4847c",
   "metadata": {},
   "source": [
    "<img src=\"../imagens/guido_van_rossum.jpg\">"
   ]
  },
  {
   "cell_type": "markdown",
   "id": "7ddaa3da",
   "metadata": {},
   "source": [
    "Guido van Rossum é um matemático e programador de computadores holandês, mais conhecido por ser o autor da linguagem de programação Python. Na comunidade Python, ele é conhecido como Benevolent Dictator for Life, o que significa que ele continua a supervisionar o processo de desenvolvimento do Python, tomando decisões quando necessário. Entretanto, em julho de 2018, ele anunciou que estaria se afastando deste função devido a desentendimentos com a equipe de desenvolvimento da linguagem Python. A discussão se deu por conta de discordâncias entre Rossum e a equipe de desenvolvedores, relacionada às novas propostas de atualização que romperia com os padrões de sintaxe da linguagem. A equipe alegava que \"a sintaxe não ficaria tão boa para os padrões de Python\". De acordo com equipe do Python no Brasil, Guido van Rossum se afasta somente desta função mas continua à frente do projeto."
   ]
  }
 ],
 "metadata": {
  "kernelspec": {
   "display_name": "Python 3",
   "language": "python",
   "name": "python3"
  },
  "language_info": {
   "codemirror_mode": {
    "name": "ipython",
    "version": 3
   },
   "file_extension": ".py",
   "mimetype": "text/x-python",
   "name": "python",
   "nbconvert_exporter": "python",
   "pygments_lexer": "ipython3",
   "version": "3.8.8"
  }
 },
 "nbformat": 4,
 "nbformat_minor": 5
}
