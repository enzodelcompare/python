{
 "cells": [
  {
   "cell_type": "markdown",
   "id": "375a22aa",
   "metadata": {},
   "source": [
    "<img src=\"https://media.giphy.com/media/m2Q7FEc0bEr4I/giphy.gif\">"
   ]
  },
  {
   "cell_type": "markdown",
   "id": "6122408a",
   "metadata": {},
   "source": [
    "### NOSSO PRIMEIRO PROGRAMA"
   ]
  },
  {
   "cell_type": "code",
   "execution_count": null,
   "id": "6bf014c8",
   "metadata": {},
   "outputs": [],
   "source": [
    "# Importando a função datetime da biblioteca datetime\n",
    "# A função datetime, é quem nos permite capturar a hora. minuto e segundo atual\n",
    "from datetime import datetime as dt\n",
    "# Importando a função sleep da biblioteca time\n",
    "# A função sleep, é quem nos permite configurar um delay entre os resultados\n",
    "from time import sleep as s\n",
    "\n",
    "# Estrutura de repetição while\n",
    "while True:\n",
    "    # Espera 1 segundo\n",
    "    s(1)\n",
    "    # Printa na tela a hora, minuto e segundo\n",
    "    print(f'Hora atual: {dt.now().hour}:{dt.now().minute}:{dt.now().second}')"
   ]
  }
 ],
 "metadata": {
  "kernelspec": {
   "display_name": "Python 3",
   "language": "python",
   "name": "python3"
  },
  "language_info": {
   "codemirror_mode": {
    "name": "ipython",
    "version": 3
   },
   "file_extension": ".py",
   "mimetype": "text/x-python",
   "name": "python",
   "nbconvert_exporter": "python",
   "pygments_lexer": "ipython3",
   "version": "3.8.8"
  }
 },
 "nbformat": 4,
 "nbformat_minor": 5
}
