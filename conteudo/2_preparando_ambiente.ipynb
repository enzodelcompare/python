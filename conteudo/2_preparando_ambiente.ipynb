{
 "cells": [
  {
   "cell_type": "markdown",
   "id": "505ff6da",
   "metadata": {},
   "source": [
    "<img src=\"https://media.giphy.com/media/13HgwGsXF0aiGY/giphy.gif\">"
   ]
  },
  {
   "cell_type": "markdown",
   "id": "9864e82d",
   "metadata": {},
   "source": [
    "### PREPARANDO NOSSO AMBIENTE"
   ]
  },
  {
   "cell_type": "markdown",
   "id": "d93dffdb",
   "metadata": {},
   "source": [
    "#### INSTALAÇÃO DO PYTHON"
   ]
  },
  {
   "cell_type": "markdown",
   "id": "3bea56a3",
   "metadata": {},
   "source": [
    "https://www.python.org/downloads/"
   ]
  },
  {
   "cell_type": "markdown",
   "id": "b7a7d164",
   "metadata": {},
   "source": [
    "#### INSTALAÇÃO DO VS Code"
   ]
  },
  {
   "cell_type": "markdown",
   "id": "0c01fa86",
   "metadata": {},
   "source": [
    "https://code.visualstudio.com/"
   ]
  }
 ],
 "metadata": {
  "kernelspec": {
   "display_name": "Python 3",
   "language": "python",
   "name": "python3"
  },
  "language_info": {
   "codemirror_mode": {
    "name": "ipython",
    "version": 3
   },
   "file_extension": ".py",
   "mimetype": "text/x-python",
   "name": "python",
   "nbconvert_exporter": "python",
   "pygments_lexer": "ipython3",
   "version": "3.8.8"
  }
 },
 "nbformat": 4,
 "nbformat_minor": 5
}
